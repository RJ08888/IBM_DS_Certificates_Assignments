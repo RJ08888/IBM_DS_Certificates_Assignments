{
 "cells": [
  {
   "cell_type": "markdown",
   "id": "aa89f83a-cfa6-4550-a7e0-db1e8e912c19",
   "metadata": {},
   "source": [
    "#Data Science Tools and Ecosystem"
   ]
  },
  {
   "cell_type": "markdown",
   "id": "4e433545-588d-47e3-990d-c4035e5d01cc",
   "metadata": {},
   "source": [
    "In this notebook, Data Science Tools and Ecosystem are summarized."
   ]
  },
  {
   "cell_type": "markdown",
   "id": "257d293a-8e18-46b3-93f3-4ed1159cca24",
   "metadata": {},
   "source": [
    "Objectives:\n",
    "- List popular data science languages\n",
    "- List common data science libraries\n",
    "- List popular data science tools\n",
    "- Arithmetic opperations"
   ]
  },
  {
   "cell_type": "markdown",
   "id": "dd5246f8-522a-47f7-a8f0-93eaf3657e23",
   "metadata": {
    "tags": []
   },
   "source": [
    "Some of the popular languages that Data Scientists use are: <br>\n",
    "    1) Python<br>\n",
    "    2) R<br>\n",
    "    3) SQL<br>\n",
    "    4) Julia<br>\n",
    "    5) Scala<br>\n",
    "    6) Java<br>\n",
    "    7) SAS<br>"
   ]
  },
  {
   "cell_type": "markdown",
   "id": "73eb76b4-22fb-423b-8ef5-b1070999033d",
   "metadata": {},
   "source": [
    "Some of the commonly used libraries used by Data Scientists include:<br>\n",
    "1) Pandas<br>\n",
    "2) Numpy<br>\n",
    "3) Matplotlib<br>\n",
    "4) Scikit-learn<br>"
   ]
  },
  {
   "cell_type": "markdown",
   "id": "66f4d936-70a6-4b80-a10c-eada4f152fd9",
   "metadata": {},
   "source": [
    "|Data Science Tools|\n",
    "--------------------\n",
    "|Python|\n",
    "|R|\n",
    "|SAS|"
   ]
  },
  {
   "cell_type": "markdown",
   "id": "39a841ff-0eb7-4034-b6f9-79ba2a1c0d80",
   "metadata": {},
   "source": [
    "Below are a few examples of evaluating arithmetic expressions in Python"
   ]
  },
  {
   "cell_type": "code",
   "execution_count": 2,
   "id": "14dd547e-3022-4eae-9809-95da40a3beff",
   "metadata": {
    "tags": []
   },
   "outputs": [
    {
     "data": {
      "text/plain": [
       "17"
      ]
     },
     "execution_count": 2,
     "metadata": {},
     "output_type": "execute_result"
    }
   ],
   "source": [
    "#This a simple arithmetic expression to mutiply then add integers\n",
    "(3*4)+5"
   ]
  },
  {
   "cell_type": "code",
   "execution_count": 3,
   "id": "222875ae-d616-48a5-85aa-553211d737b0",
   "metadata": {
    "tags": []
   },
   "outputs": [
    {
     "data": {
      "text/plain": [
       "3.3333333333333335"
      ]
     },
     "execution_count": 3,
     "metadata": {},
     "output_type": "execute_result"
    }
   ],
   "source": [
    "#This will convert 200 minutes to hours by diving by 60\n",
    "200/60"
   ]
  },
  {
   "cell_type": "markdown",
   "id": "305abc34-6295-4a93-b339-3886557050a0",
   "metadata": {},
   "source": [
    "## Author <br>\n",
    "Rion "
   ]
  },
  {
   "cell_type": "code",
   "execution_count": null,
   "id": "c4eab0ba-911b-405e-9b4b-3e32edf4a552",
   "metadata": {},
   "outputs": [],
   "source": []
  }
 ],
 "metadata": {
  "kernelspec": {
   "display_name": "Python",
   "language": "python",
   "name": "conda-env-python-py"
  },
  "language_info": {
   "codemirror_mode": {
    "name": "ipython",
    "version": 3
   },
   "file_extension": ".py",
   "mimetype": "text/x-python",
   "name": "python",
   "nbconvert_exporter": "python",
   "pygments_lexer": "ipython3",
   "version": "3.7.12"
  }
 },
 "nbformat": 4,
 "nbformat_minor": 5
}
